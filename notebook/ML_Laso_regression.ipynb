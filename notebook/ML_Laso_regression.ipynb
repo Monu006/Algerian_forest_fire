{
 "cells": [
  {
   "cell_type": "code",
   "execution_count": 1,
   "id": "8a7c2d8d",
   "metadata": {},
   "outputs": [],
   "source": [
    "import matplotlib.pyplot as plt\n",
    "import numpy as np\n",
    "import pandas as pd\n",
    "import seaborn as sns"
   ]
  },
  {
   "cell_type": "code",
   "execution_count": 2,
   "id": "abe23a1e",
   "metadata": {},
   "outputs": [],
   "source": [
    "df = pd.read_csv('Algerian_EDA_cleaned.csv')"
   ]
  },
  {
   "cell_type": "code",
   "execution_count": 3,
   "id": "dd7d6074",
   "metadata": {},
   "outputs": [],
   "source": [
    "df.drop(['day','month','year'],axis=1,inplace=True)"
   ]
  },
  {
   "cell_type": "code",
   "execution_count": 4,
   "id": "51b990ee",
   "metadata": {},
   "outputs": [],
   "source": [
    "df['Classes'] = np.where(df['Classes'].str.contains('not fire'),0,1)"
   ]
  },
  {
   "cell_type": "code",
   "execution_count": 5,
   "id": "b3bd2b82",
   "metadata": {},
   "outputs": [],
   "source": [
    "# Defining x and y"
   ]
  },
  {
   "cell_type": "code",
   "execution_count": 6,
   "id": "9235c0a0",
   "metadata": {},
   "outputs": [],
   "source": [
    "x = df.drop('FWI',axis=1)\n",
    "y= df['FWI']"
   ]
  },
  {
   "cell_type": "code",
   "execution_count": 7,
   "id": "86b074f3",
   "metadata": {},
   "outputs": [],
   "source": [
    "from sklearn.model_selection import train_test_split"
   ]
  },
  {
   "cell_type": "code",
   "execution_count": 8,
   "id": "4271ab4a",
   "metadata": {},
   "outputs": [],
   "source": [
    "x_train,x_test,y_train,y_test = train_test_split(x,y,random_state=42,test_size=0.25)"
   ]
  },
  {
   "cell_type": "code",
   "execution_count": 9,
   "id": "6035e889",
   "metadata": {},
   "outputs": [
    {
     "data": {
      "text/html": [
       "<div>\n",
       "<style scoped>\n",
       "    .dataframe tbody tr th:only-of-type {\n",
       "        vertical-align: middle;\n",
       "    }\n",
       "\n",
       "    .dataframe tbody tr th {\n",
       "        vertical-align: top;\n",
       "    }\n",
       "\n",
       "    .dataframe thead th {\n",
       "        text-align: right;\n",
       "    }\n",
       "</style>\n",
       "<table border=\"1\" class=\"dataframe\">\n",
       "  <thead>\n",
       "    <tr style=\"text-align: right;\">\n",
       "      <th></th>\n",
       "      <th>Temperature</th>\n",
       "      <th>RH</th>\n",
       "      <th>Ws</th>\n",
       "      <th>Rain</th>\n",
       "      <th>FFMC</th>\n",
       "      <th>DMC</th>\n",
       "      <th>DC</th>\n",
       "      <th>ISI</th>\n",
       "      <th>BUI</th>\n",
       "      <th>Classes</th>\n",
       "      <th>Region</th>\n",
       "    </tr>\n",
       "  </thead>\n",
       "  <tbody>\n",
       "    <tr>\n",
       "      <th>Temperature</th>\n",
       "      <td>1.000000</td>\n",
       "      <td>-0.656095</td>\n",
       "      <td>-0.305977</td>\n",
       "      <td>-0.317512</td>\n",
       "      <td>0.694768</td>\n",
       "      <td>0.498173</td>\n",
       "      <td>0.390684</td>\n",
       "      <td>0.629848</td>\n",
       "      <td>0.473609</td>\n",
       "      <td>0.542141</td>\n",
       "      <td>0.254549</td>\n",
       "    </tr>\n",
       "    <tr>\n",
       "      <th>RH</th>\n",
       "      <td>-0.656095</td>\n",
       "      <td>1.000000</td>\n",
       "      <td>0.225736</td>\n",
       "      <td>0.241656</td>\n",
       "      <td>-0.653023</td>\n",
       "      <td>-0.414601</td>\n",
       "      <td>-0.236078</td>\n",
       "      <td>-0.717804</td>\n",
       "      <td>-0.362317</td>\n",
       "      <td>-0.456876</td>\n",
       "      <td>-0.394665</td>\n",
       "    </tr>\n",
       "    <tr>\n",
       "      <th>Ws</th>\n",
       "      <td>-0.305977</td>\n",
       "      <td>0.225736</td>\n",
       "      <td>1.000000</td>\n",
       "      <td>0.251932</td>\n",
       "      <td>-0.190076</td>\n",
       "      <td>0.000379</td>\n",
       "      <td>0.096576</td>\n",
       "      <td>-0.023558</td>\n",
       "      <td>0.035633</td>\n",
       "      <td>-0.082570</td>\n",
       "      <td>-0.199969</td>\n",
       "    </tr>\n",
       "    <tr>\n",
       "      <th>Rain</th>\n",
       "      <td>-0.317512</td>\n",
       "      <td>0.241656</td>\n",
       "      <td>0.251932</td>\n",
       "      <td>1.000000</td>\n",
       "      <td>-0.545491</td>\n",
       "      <td>-0.289754</td>\n",
       "      <td>-0.302341</td>\n",
       "      <td>-0.345707</td>\n",
       "      <td>-0.300964</td>\n",
       "      <td>-0.369357</td>\n",
       "      <td>-0.059022</td>\n",
       "    </tr>\n",
       "    <tr>\n",
       "      <th>FFMC</th>\n",
       "      <td>0.694768</td>\n",
       "      <td>-0.653023</td>\n",
       "      <td>-0.190076</td>\n",
       "      <td>-0.545491</td>\n",
       "      <td>1.000000</td>\n",
       "      <td>0.620807</td>\n",
       "      <td>0.524101</td>\n",
       "      <td>0.750799</td>\n",
       "      <td>0.607210</td>\n",
       "      <td>0.781259</td>\n",
       "      <td>0.249514</td>\n",
       "    </tr>\n",
       "    <tr>\n",
       "      <th>DMC</th>\n",
       "      <td>0.498173</td>\n",
       "      <td>-0.414601</td>\n",
       "      <td>0.000379</td>\n",
       "      <td>-0.289754</td>\n",
       "      <td>0.620807</td>\n",
       "      <td>1.000000</td>\n",
       "      <td>0.868647</td>\n",
       "      <td>0.685656</td>\n",
       "      <td>0.983175</td>\n",
       "      <td>0.617273</td>\n",
       "      <td>0.212582</td>\n",
       "    </tr>\n",
       "    <tr>\n",
       "      <th>DC</th>\n",
       "      <td>0.390684</td>\n",
       "      <td>-0.236078</td>\n",
       "      <td>0.096576</td>\n",
       "      <td>-0.302341</td>\n",
       "      <td>0.524101</td>\n",
       "      <td>0.868647</td>\n",
       "      <td>1.000000</td>\n",
       "      <td>0.513701</td>\n",
       "      <td>0.942414</td>\n",
       "      <td>0.543581</td>\n",
       "      <td>-0.060838</td>\n",
       "    </tr>\n",
       "    <tr>\n",
       "      <th>ISI</th>\n",
       "      <td>0.629848</td>\n",
       "      <td>-0.717804</td>\n",
       "      <td>-0.023558</td>\n",
       "      <td>-0.345707</td>\n",
       "      <td>0.750799</td>\n",
       "      <td>0.685656</td>\n",
       "      <td>0.513701</td>\n",
       "      <td>1.000000</td>\n",
       "      <td>0.643818</td>\n",
       "      <td>0.742977</td>\n",
       "      <td>0.296441</td>\n",
       "    </tr>\n",
       "    <tr>\n",
       "      <th>BUI</th>\n",
       "      <td>0.473609</td>\n",
       "      <td>-0.362317</td>\n",
       "      <td>0.035633</td>\n",
       "      <td>-0.300964</td>\n",
       "      <td>0.607210</td>\n",
       "      <td>0.983175</td>\n",
       "      <td>0.942414</td>\n",
       "      <td>0.643818</td>\n",
       "      <td>1.000000</td>\n",
       "      <td>0.612239</td>\n",
       "      <td>0.114897</td>\n",
       "    </tr>\n",
       "    <tr>\n",
       "      <th>Classes</th>\n",
       "      <td>0.542141</td>\n",
       "      <td>-0.456876</td>\n",
       "      <td>-0.082570</td>\n",
       "      <td>-0.369357</td>\n",
       "      <td>0.781259</td>\n",
       "      <td>0.617273</td>\n",
       "      <td>0.543581</td>\n",
       "      <td>0.742977</td>\n",
       "      <td>0.612239</td>\n",
       "      <td>1.000000</td>\n",
       "      <td>0.188837</td>\n",
       "    </tr>\n",
       "    <tr>\n",
       "      <th>Region</th>\n",
       "      <td>0.254549</td>\n",
       "      <td>-0.394665</td>\n",
       "      <td>-0.199969</td>\n",
       "      <td>-0.059022</td>\n",
       "      <td>0.249514</td>\n",
       "      <td>0.212582</td>\n",
       "      <td>-0.060838</td>\n",
       "      <td>0.296441</td>\n",
       "      <td>0.114897</td>\n",
       "      <td>0.188837</td>\n",
       "      <td>1.000000</td>\n",
       "    </tr>\n",
       "  </tbody>\n",
       "</table>\n",
       "</div>"
      ],
      "text/plain": [
       "             Temperature        RH        Ws      Rain      FFMC       DMC  \\\n",
       "Temperature     1.000000 -0.656095 -0.305977 -0.317512  0.694768  0.498173   \n",
       "RH             -0.656095  1.000000  0.225736  0.241656 -0.653023 -0.414601   \n",
       "Ws             -0.305977  0.225736  1.000000  0.251932 -0.190076  0.000379   \n",
       "Rain           -0.317512  0.241656  0.251932  1.000000 -0.545491 -0.289754   \n",
       "FFMC            0.694768 -0.653023 -0.190076 -0.545491  1.000000  0.620807   \n",
       "DMC             0.498173 -0.414601  0.000379 -0.289754  0.620807  1.000000   \n",
       "DC              0.390684 -0.236078  0.096576 -0.302341  0.524101  0.868647   \n",
       "ISI             0.629848 -0.717804 -0.023558 -0.345707  0.750799  0.685656   \n",
       "BUI             0.473609 -0.362317  0.035633 -0.300964  0.607210  0.983175   \n",
       "Classes         0.542141 -0.456876 -0.082570 -0.369357  0.781259  0.617273   \n",
       "Region          0.254549 -0.394665 -0.199969 -0.059022  0.249514  0.212582   \n",
       "\n",
       "                   DC       ISI       BUI   Classes    Region  \n",
       "Temperature  0.390684  0.629848  0.473609  0.542141  0.254549  \n",
       "RH          -0.236078 -0.717804 -0.362317 -0.456876 -0.394665  \n",
       "Ws           0.096576 -0.023558  0.035633 -0.082570 -0.199969  \n",
       "Rain        -0.302341 -0.345707 -0.300964 -0.369357 -0.059022  \n",
       "FFMC         0.524101  0.750799  0.607210  0.781259  0.249514  \n",
       "DMC          0.868647  0.685656  0.983175  0.617273  0.212582  \n",
       "DC           1.000000  0.513701  0.942414  0.543581 -0.060838  \n",
       "ISI          0.513701  1.000000  0.643818  0.742977  0.296441  \n",
       "BUI          0.942414  0.643818  1.000000  0.612239  0.114897  \n",
       "Classes      0.543581  0.742977  0.612239  1.000000  0.188837  \n",
       "Region      -0.060838  0.296441  0.114897  0.188837  1.000000  "
      ]
     },
     "execution_count": 9,
     "metadata": {},
     "output_type": "execute_result"
    }
   ],
   "source": [
    "x_train.corr()"
   ]
  },
  {
   "cell_type": "code",
   "execution_count": 10,
   "id": "4d7fe3b0",
   "metadata": {},
   "outputs": [
    {
     "data": {
      "text/plain": [
       "((61, 11), (182, 11))"
      ]
     },
     "execution_count": 10,
     "metadata": {},
     "output_type": "execute_result"
    }
   ],
   "source": [
    "x_test.shape,x_train.shape"
   ]
  },
  {
   "cell_type": "code",
   "execution_count": 11,
   "id": "990ddde3",
   "metadata": {},
   "outputs": [
    {
     "data": {
      "image/png": "[encoded data removed]",
      "text/plain": [
       "<Figure size 1200x800 with 2 Axes>"
      ]
     },
     "metadata": {},
     "output_type": "display_data"
    }
   ],
   "source": [
    "plt.figure(figsize=(12,8))\n",
    "sns.heatmap(x_train.corr(),annot=True)\n",
    "plt.show()"
   ]
  },
  {
   "cell_type": "code",
   "execution_count": 12,
   "id": "5d4b9bbd",
   "metadata": {},
   "outputs": [
    {
     "data": {
      "text/html": [
       "<div>\n",
       "<style scoped>\n",
       "    .dataframe tbody tr th:only-of-type {\n",
       "        vertical-align: middle;\n",
       "    }\n",
       "\n",
       "    .dataframe tbody tr th {\n",
       "        vertical-align: top;\n",
       "    }\n",
       "\n",
       "    .dataframe thead th {\n",
       "        text-align: right;\n",
       "    }\n",
       "</style>\n",
       "<table border=\"1\" class=\"dataframe\">\n",
       "  <thead>\n",
       "    <tr style=\"text-align: right;\">\n",
       "      <th></th>\n",
       "      <th>Temperature</th>\n",
       "      <th>RH</th>\n",
       "      <th>Ws</th>\n",
       "      <th>Rain</th>\n",
       "      <th>FFMC</th>\n",
       "      <th>DMC</th>\n",
       "      <th>DC</th>\n",
       "      <th>ISI</th>\n",
       "      <th>BUI</th>\n",
       "      <th>Classes</th>\n",
       "      <th>Region</th>\n",
       "    </tr>\n",
       "  </thead>\n",
       "  <tbody>\n",
       "    <tr>\n",
       "      <th>Temperature</th>\n",
       "      <td>1.000000</td>\n",
       "      <td>-0.656095</td>\n",
       "      <td>-0.305977</td>\n",
       "      <td>-0.317512</td>\n",
       "      <td>0.694768</td>\n",
       "      <td>0.498173</td>\n",
       "      <td>0.390684</td>\n",
       "      <td>0.629848</td>\n",
       "      <td>0.473609</td>\n",
       "      <td>0.542141</td>\n",
       "      <td>0.254549</td>\n",
       "    </tr>\n",
       "    <tr>\n",
       "      <th>RH</th>\n",
       "      <td>-0.656095</td>\n",
       "      <td>1.000000</td>\n",
       "      <td>0.225736</td>\n",
       "      <td>0.241656</td>\n",
       "      <td>-0.653023</td>\n",
       "      <td>-0.414601</td>\n",
       "      <td>-0.236078</td>\n",
       "      <td>-0.717804</td>\n",
       "      <td>-0.362317</td>\n",
       "      <td>-0.456876</td>\n",
       "      <td>-0.394665</td>\n",
       "    </tr>\n",
       "    <tr>\n",
       "      <th>Ws</th>\n",
       "      <td>-0.305977</td>\n",
       "      <td>0.225736</td>\n",
       "      <td>1.000000</td>\n",
       "      <td>0.251932</td>\n",
       "      <td>-0.190076</td>\n",
       "      <td>0.000379</td>\n",
       "      <td>0.096576</td>\n",
       "      <td>-0.023558</td>\n",
       "      <td>0.035633</td>\n",
       "      <td>-0.082570</td>\n",
       "      <td>-0.199969</td>\n",
       "    </tr>\n",
       "    <tr>\n",
       "      <th>Rain</th>\n",
       "      <td>-0.317512</td>\n",
       "      <td>0.241656</td>\n",
       "      <td>0.251932</td>\n",
       "      <td>1.000000</td>\n",
       "      <td>-0.545491</td>\n",
       "      <td>-0.289754</td>\n",
       "      <td>-0.302341</td>\n",
       "      <td>-0.345707</td>\n",
       "      <td>-0.300964</td>\n",
       "      <td>-0.369357</td>\n",
       "      <td>-0.059022</td>\n",
       "    </tr>\n",
       "    <tr>\n",
       "      <th>FFMC</th>\n",
       "      <td>0.694768</td>\n",
       "      <td>-0.653023</td>\n",
       "      <td>-0.190076</td>\n",
       "      <td>-0.545491</td>\n",
       "      <td>1.000000</td>\n",
       "      <td>0.620807</td>\n",
       "      <td>0.524101</td>\n",
       "      <td>0.750799</td>\n",
       "      <td>0.607210</td>\n",
       "      <td>0.781259</td>\n",
       "      <td>0.249514</td>\n",
       "    </tr>\n",
       "    <tr>\n",
       "      <th>DMC</th>\n",
       "      <td>0.498173</td>\n",
       "      <td>-0.414601</td>\n",
       "      <td>0.000379</td>\n",
       "      <td>-0.289754</td>\n",
       "      <td>0.620807</td>\n",
       "      <td>1.000000</td>\n",
       "      <td>0.868647</td>\n",
       "      <td>0.685656</td>\n",
       "      <td>0.983175</td>\n",
       "      <td>0.617273</td>\n",
       "      <td>0.212582</td>\n",
       "    </tr>\n",
       "    <tr>\n",
       "      <th>DC</th>\n",
       "      <td>0.390684</td>\n",
       "      <td>-0.236078</td>\n",
       "      <td>0.096576</td>\n",
       "      <td>-0.302341</td>\n",
       "      <td>0.524101</td>\n",
       "      <td>0.868647</td>\n",
       "      <td>1.000000</td>\n",
       "      <td>0.513701</td>\n",
       "      <td>0.942414</td>\n",
       "      <td>0.543581</td>\n",
       "      <td>-0.060838</td>\n",
       "    </tr>\n",
       "    <tr>\n",
       "      <th>ISI</th>\n",
       "      <td>0.629848</td>\n",
       "      <td>-0.717804</td>\n",
       "      <td>-0.023558</td>\n",
       "      <td>-0.345707</td>\n",
       "      <td>0.750799</td>\n",
       "      <td>0.685656</td>\n",
       "      <td>0.513701</td>\n",
       "      <td>1.000000</td>\n",
       "      <td>0.643818</td>\n",
       "      <td>0.742977</td>\n",
       "      <td>0.296441</td>\n",
       "    </tr>\n",
       "    <tr>\n",
       "      <th>BUI</th>\n",
       "      <td>0.473609</td>\n",
       "      <td>-0.362317</td>\n",
       "      <td>0.035633</td>\n",
       "      <td>-0.300964</td>\n",
       "      <td>0.607210</td>\n",
       "      <td>0.983175</td>\n",
       "      <td>0.942414</td>\n",
       "      <td>0.643818</td>\n",
       "      <td>1.000000</td>\n",
       "      <td>0.612239</td>\n",
       "      <td>0.114897</td>\n",
       "    </tr>\n",
       "    <tr>\n",
       "      <th>Classes</th>\n",
       "      <td>0.542141</td>\n",
       "      <td>-0.456876</td>\n",
       "      <td>-0.082570</td>\n",
       "      <td>-0.369357</td>\n",
       "      <td>0.781259</td>\n",
       "      <td>0.617273</td>\n",
       "      <td>0.543581</td>\n",
       "      <td>0.742977</td>\n",
       "      <td>0.612239</td>\n",
       "      <td>1.000000</td>\n",
       "      <td>0.188837</td>\n",
       "    </tr>\n",
       "    <tr>\n",
       "      <th>Region</th>\n",
       "      <td>0.254549</td>\n",
       "      <td>-0.394665</td>\n",
       "      <td>-0.199969</td>\n",
       "      <td>-0.059022</td>\n",
       "      <td>0.249514</td>\n",
       "      <td>0.212582</td>\n",
       "      <td>-0.060838</td>\n",
       "      <td>0.296441</td>\n",
       "      <td>0.114897</td>\n",
       "      <td>0.188837</td>\n",
       "      <td>1.000000</td>\n",
       "    </tr>\n",
       "  </tbody>\n",
       "</table>\n",
       "</div>"
      ],
      "text/plain": [
       "             Temperature        RH        Ws      Rain      FFMC       DMC  \\\n",
       "Temperature     1.000000 -0.656095 -0.305977 -0.317512  0.694768  0.498173   \n",
       "RH             -0.656095  1.000000  0.225736  0.241656 -0.653023 -0.414601   \n",
       "Ws             -0.305977  0.225736  1.000000  0.251932 -0.190076  0.000379   \n",
       "Rain           -0.317512  0.241656  0.251932  1.000000 -0.545491 -0.289754   \n",
       "FFMC            0.694768 -0.653023 -0.190076 -0.545491  1.000000  0.620807   \n",
       "DMC             0.498173 -0.414601  0.000379 -0.289754  0.620807  1.000000   \n",
       "DC              0.390684 -0.236078  0.096576 -0.302341  0.524101  0.868647   \n",
       "ISI             0.629848 -0.717804 -0.023558 -0.345707  0.750799  0.685656   \n",
       "BUI             0.473609 -0.362317  0.035633 -0.300964  0.607210  0.983175   \n",
       "Classes         0.542141 -0.456876 -0.082570 -0.369357  0.781259  0.617273   \n",
       "Region          0.254549 -0.394665 -0.199969 -0.059022  0.249514  0.212582   \n",
       "\n",
       "                   DC       ISI       BUI   Classes    Region  \n",
       "Temperature  0.390684  0.629848  0.473609  0.542141  0.254549  \n",
       "RH          -0.236078 -0.717804 -0.362317 -0.456876 -0.394665  \n",
       "Ws           0.096576 -0.023558  0.035633 -0.082570 -0.199969  \n",
       "Rain        -0.302341 -0.345707 -0.300964 -0.369357 -0.059022  \n",
       "FFMC         0.524101  0.750799  0.607210  0.781259  0.249514  \n",
       "DMC          0.868647  0.685656  0.983175  0.617273  0.212582  \n",
       "DC           1.000000  0.513701  0.942414  0.543581 -0.060838  \n",
       "ISI          0.513701  1.000000  0.643818  0.742977  0.296441  \n",
       "BUI          0.942414  0.643818  1.000000  0.612239  0.114897  \n",
       "Classes      0.543581  0.742977  0.612239  1.000000  0.188837  \n",
       "Region      -0.060838  0.296441  0.114897  0.188837  1.000000  "
      ]
     },
     "execution_count": 12,
     "metadata": {},
     "output_type": "execute_result"
    }
   ],
   "source": [
    "x_train.corr()"
   ]
  },
  {
   "cell_type": "code",
   "execution_count": 14,
   "id": "9b112d39",
   "metadata": {},
   "outputs": [],
   "source": [
    "def remove_corelated(data,threshold):\n",
    "    corel_set = set()\n",
    "    corelation_matrix = data.corr()\n",
    "    for i in range(len(corelation_matrix.columns)):\n",
    "        for j in range(i):\n",
    "            print('Compared',corelation_matrix.columns[i],\"and\", corelation_matrix.columns[j],i,j)\n",
    "            if abs(corelation_matrix.iloc[i,j])> threshold:\n",
    "                print('Compared',corelation_matrix.columns[i])\n",
    "                col_name = corelation_matrix.columns[i]\n",
    "                corel_set.add(col_name)\n",
    "    return corel_set\n"
   ]
  },
  {
   "cell_type": "code",
   "execution_count": 15,
   "id": "701a962f",
   "metadata": {},
   "outputs": [
    {
     "name": "stdout",
     "output_type": "stream",
     "text": [
      "Compared RH and Temperature 1 0\n",
      "Compared Ws and Temperature 2 0\n",
      "Compared Ws and RH 2 1\n",
      "Compared Rain and Temperature 3 0\n",
      "Compared Rain and RH 3 1\n",
      "Compared Rain and Ws 3 2\n",
      "Compared FFMC and Temperature 4 0\n",
      "Compared FFMC and RH 4 1\n",
      "Compared FFMC and Ws 4 2\n",
      "Compared FFMC and Rain 4 3\n",
      "Compared DMC and Temperature 5 0\n",
      "Compared DMC and RH 5 1\n",
      "Compared DMC and Ws 5 2\n",
      "Compared DMC and Rain 5 3\n",
      "Compared DMC and FFMC 5 4\n",
      "Compared DC and Temperature 6 0\n",
      "Compared DC and RH 6 1\n",
      "Compared DC and Ws 6 2\n",
      "Compared DC and Rain 6 3\n",
      "Compared DC and FFMC 6 4\n",
      "Compared DC and DMC 6 5\n",
      "Compared DC\n",
      "Compared ISI and Temperature 7 0\n",
      "Compared ISI and RH 7 1\n",
      "Compared ISI and Ws 7 2\n",
      "Compared ISI and Rain 7 3\n",
      "Compared ISI and FFMC 7 4\n",
      "Compared ISI and DMC 7 5\n",
      "Compared ISI and DC 7 6\n",
      "Compared BUI and Temperature 8 0\n",
      "Compared BUI and RH 8 1\n",
      "Compared BUI and Ws 8 2\n",
      "Compared BUI and Rain 8 3\n",
      "Compared BUI and FFMC 8 4\n",
      "Compared BUI and DMC 8 5\n",
      "Compared BUI\n",
      "Compared BUI and DC 8 6\n",
      "Compared BUI\n",
      "Compared BUI and ISI 8 7\n",
      "Compared Classes and Temperature 9 0\n",
      "Compared Classes and RH 9 1\n",
      "Compared Classes and Ws 9 2\n",
      "Compared Classes and Rain 9 3\n",
      "Compared Classes and FFMC 9 4\n",
      "Compared Classes and DMC 9 5\n",
      "Compared Classes and DC 9 6\n",
      "Compared Classes and ISI 9 7\n",
      "Compared Classes and BUI 9 8\n",
      "Compared Region and Temperature 10 0\n",
      "Compared Region and RH 10 1\n",
      "Compared Region and Ws 10 2\n",
      "Compared Region and Rain 10 3\n",
      "Compared Region and FFMC 10 4\n",
      "Compared Region and DMC 10 5\n",
      "Compared Region and DC 10 6\n",
      "Compared Region and ISI 10 7\n",
      "Compared Region and BUI 10 8\n",
      "Compared Region and Classes 10 9\n"
     ]
    }
   ],
   "source": [
    "corel_set = remove_corelated(x_train,0.85)"
   ]
  },
  {
   "cell_type": "code",
   "execution_count": 16,
   "id": "71104550",
   "metadata": {},
   "outputs": [],
   "source": [
    "x_train.drop(corel_set, inplace=True, axis=1)\n",
    "x_test.drop(corel_set, inplace=True, axis=1)"
   ]
  },
  {
   "cell_type": "code",
   "execution_count": 17,
   "id": "bbb753e1",
   "metadata": {},
   "outputs": [
    {
     "data": {
      "text/plain": [
       "((182, 9), (61, 9))"
      ]
     },
     "execution_count": 17,
     "metadata": {},
     "output_type": "execute_result"
    }
   ],
   "source": [
    "x_train.shape,x_test.shape"
   ]
  },
  {
   "cell_type": "code",
   "execution_count": 18,
   "id": "de61a401",
   "metadata": {},
   "outputs": [],
   "source": [
    "from sklearn.preprocessing import StandardScaler"
   ]
  },
  {
   "cell_type": "code",
   "execution_count": 19,
   "id": "431c727d",
   "metadata": {},
   "outputs": [
    {
     "data": {
      "text/html": [
       "<div>\n",
       "<style scoped>\n",
       "    .dataframe tbody tr th:only-of-type {\n",
       "        vertical-align: middle;\n",
       "    }\n",
       "\n",
       "    .dataframe tbody tr th {\n",
       "        vertical-align: top;\n",
       "    }\n",
       "\n",
       "    .dataframe thead th {\n",
       "        text-align: right;\n",
       "    }\n",
       "</style>\n",
       "<table border=\"1\" class=\"dataframe\">\n",
       "  <thead>\n",
       "    <tr style=\"text-align: right;\">\n",
       "      <th></th>\n",
       "      <th>Temperature</th>\n",
       "      <th>RH</th>\n",
       "      <th>Ws</th>\n",
       "      <th>Rain</th>\n",
       "      <th>FFMC</th>\n",
       "      <th>DMC</th>\n",
       "      <th>ISI</th>\n",
       "      <th>Classes</th>\n",
       "      <th>Region</th>\n",
       "    </tr>\n",
       "  </thead>\n",
       "  <tbody>\n",
       "    <tr>\n",
       "      <th>97</th>\n",
       "      <td>29.0</td>\n",
       "      <td>74.0</td>\n",
       "      <td>19.0</td>\n",
       "      <td>0.1</td>\n",
       "      <td>75.8</td>\n",
       "      <td>3.6</td>\n",
       "      <td>2.1</td>\n",
       "      <td>0</td>\n",
       "      <td>0.0</td>\n",
       "    </tr>\n",
       "    <tr>\n",
       "      <th>141</th>\n",
       "      <td>31.0</td>\n",
       "      <td>72.0</td>\n",
       "      <td>14.0</td>\n",
       "      <td>0.2</td>\n",
       "      <td>60.2</td>\n",
       "      <td>3.8</td>\n",
       "      <td>0.8</td>\n",
       "      <td>0</td>\n",
       "      <td>1.0</td>\n",
       "    </tr>\n",
       "    <tr>\n",
       "      <th>192</th>\n",
       "      <td>40.0</td>\n",
       "      <td>31.0</td>\n",
       "      <td>15.0</td>\n",
       "      <td>0.0</td>\n",
       "      <td>94.2</td>\n",
       "      <td>22.5</td>\n",
       "      <td>16.6</td>\n",
       "      <td>1</td>\n",
       "      <td>1.0</td>\n",
       "    </tr>\n",
       "    <tr>\n",
       "      <th>68</th>\n",
       "      <td>32.0</td>\n",
       "      <td>60.0</td>\n",
       "      <td>18.0</td>\n",
       "      <td>0.3</td>\n",
       "      <td>77.1</td>\n",
       "      <td>11.3</td>\n",
       "      <td>2.2</td>\n",
       "      <td>0</td>\n",
       "      <td>0.0</td>\n",
       "    </tr>\n",
       "    <tr>\n",
       "      <th>119</th>\n",
       "      <td>32.0</td>\n",
       "      <td>47.0</td>\n",
       "      <td>14.0</td>\n",
       "      <td>0.7</td>\n",
       "      <td>77.5</td>\n",
       "      <td>7.1</td>\n",
       "      <td>1.8</td>\n",
       "      <td>0</td>\n",
       "      <td>0.0</td>\n",
       "    </tr>\n",
       "    <tr>\n",
       "      <th>...</th>\n",
       "      <td>...</td>\n",
       "      <td>...</td>\n",
       "      <td>...</td>\n",
       "      <td>...</td>\n",
       "      <td>...</td>\n",
       "      <td>...</td>\n",
       "      <td>...</td>\n",
       "      <td>...</td>\n",
       "      <td>...</td>\n",
       "    </tr>\n",
       "    <tr>\n",
       "      <th>106</th>\n",
       "      <td>24.0</td>\n",
       "      <td>82.0</td>\n",
       "      <td>15.0</td>\n",
       "      <td>0.4</td>\n",
       "      <td>44.9</td>\n",
       "      <td>0.9</td>\n",
       "      <td>0.2</td>\n",
       "      <td>0</td>\n",
       "      <td>0.0</td>\n",
       "    </tr>\n",
       "    <tr>\n",
       "      <th>14</th>\n",
       "      <td>28.0</td>\n",
       "      <td>80.0</td>\n",
       "      <td>17.0</td>\n",
       "      <td>3.1</td>\n",
       "      <td>49.4</td>\n",
       "      <td>3.0</td>\n",
       "      <td>0.4</td>\n",
       "      <td>0</td>\n",
       "      <td>0.0</td>\n",
       "    </tr>\n",
       "    <tr>\n",
       "      <th>92</th>\n",
       "      <td>25.0</td>\n",
       "      <td>76.0</td>\n",
       "      <td>17.0</td>\n",
       "      <td>7.2</td>\n",
       "      <td>46.0</td>\n",
       "      <td>1.3</td>\n",
       "      <td>0.2</td>\n",
       "      <td>0</td>\n",
       "      <td>0.0</td>\n",
       "    </tr>\n",
       "    <tr>\n",
       "      <th>179</th>\n",
       "      <td>34.0</td>\n",
       "      <td>59.0</td>\n",
       "      <td>16.0</td>\n",
       "      <td>0.0</td>\n",
       "      <td>88.1</td>\n",
       "      <td>19.5</td>\n",
       "      <td>7.4</td>\n",
       "      <td>1</td>\n",
       "      <td>1.0</td>\n",
       "    </tr>\n",
       "    <tr>\n",
       "      <th>102</th>\n",
       "      <td>30.0</td>\n",
       "      <td>77.0</td>\n",
       "      <td>21.0</td>\n",
       "      <td>1.8</td>\n",
       "      <td>58.5</td>\n",
       "      <td>1.9</td>\n",
       "      <td>1.1</td>\n",
       "      <td>0</td>\n",
       "      <td>0.0</td>\n",
       "    </tr>\n",
       "  </tbody>\n",
       "</table>\n",
       "<p>182 rows × 9 columns</p>\n",
       "</div>"
      ],
      "text/plain": [
       "     Temperature    RH    Ws  Rain  FFMC   DMC   ISI  Classes  Region\n",
       "97          29.0  74.0  19.0   0.1  75.8   3.6   2.1        0     0.0\n",
       "141         31.0  72.0  14.0   0.2  60.2   3.8   0.8        0     1.0\n",
       "192         40.0  31.0  15.0   0.0  94.2  22.5  16.6        1     1.0\n",
       "68          32.0  60.0  18.0   0.3  77.1  11.3   2.2        0     0.0\n",
       "119         32.0  47.0  14.0   0.7  77.5   7.1   1.8        0     0.0\n",
       "..           ...   ...   ...   ...   ...   ...   ...      ...     ...\n",
       "106         24.0  82.0  15.0   0.4  44.9   0.9   0.2        0     0.0\n",
       "14          28.0  80.0  17.0   3.1  49.4   3.0   0.4        0     0.0\n",
       "92          25.0  76.0  17.0   7.2  46.0   1.3   0.2        0     0.0\n",
       "179         34.0  59.0  16.0   0.0  88.1  19.5   7.4        1     1.0\n",
       "102         30.0  77.0  21.0   1.8  58.5   1.9   1.1        0     0.0\n",
       "\n",
       "[182 rows x 9 columns]"
      ]
     },
     "execution_count": 19,
     "metadata": {},
     "output_type": "execute_result"
    }
   ],
   "source": [
    "x_train"
   ]
  },
  {
   "cell_type": "code",
   "execution_count": 20,
   "id": "6351e178",
   "metadata": {},
   "outputs": [],
   "source": [
    "scaler = StandardScaler()"
   ]
  },
  {
   "cell_type": "code",
   "execution_count": 21,
   "id": "46035e21",
   "metadata": {},
   "outputs": [],
   "source": [
    "x_train_scaled = scaler.fit_transform(x_train)\n",
    "x_test_scaled = scaler.transform(x_test)"
   ]
  },
  {
   "cell_type": "code",
   "execution_count": 22,
   "id": "413e7a50",
   "metadata": {},
   "outputs": [
    {
     "data": {
      "image/png": "[encoded data removed]",
      "text/plain": [
       "<Figure size 1500x500 with 2 Axes>"
      ]
     },
     "metadata": {},
     "output_type": "display_data"
    }
   ],
   "source": [
    "plt.subplots(figsize=(15,5))\n",
    "plt.subplot(1,2,1)\n",
    "sns.boxplot(data=x_train)\n",
    "plt.title('Before scaling')\n",
    "plt.subplot(1,2,2)\n",
    "sns.boxplot(data=x_train_scaled)\n",
    "plt.title('After scaling')\n",
    "plt.show()"
   ]
  },
  {
   "cell_type": "code",
   "execution_count": 23,
   "id": "d9901b42",
   "metadata": {},
   "outputs": [],
   "source": [
    "from sklearn.linear_model import LinearRegression"
   ]
  },
  {
   "cell_type": "code",
   "execution_count": 26,
   "id": "f2dda95a",
   "metadata": {},
   "outputs": [],
   "source": [
    "regressor = LinearRegression()"
   ]
  },
  {
   "cell_type": "code",
   "execution_count": 27,
   "id": "af047a65",
   "metadata": {},
   "outputs": [
    {
     "data": {
      "text/plain": [
       "LinearRegression()"
      ]
     },
     "execution_count": 27,
     "metadata": {},
     "output_type": "execute_result"
    }
   ],
   "source": [
    "regressor.fit(x_train_scaled,y_train)"
   ]
  },
  {
   "cell_type": "code",
   "execution_count": 28,
   "id": "b47c39f8",
   "metadata": {},
   "outputs": [],
   "source": [
    "y_pred = regressor.predict(x_test_scaled)"
   ]
  },
  {
   "cell_type": "code",
   "execution_count": 29,
   "id": "fa8b3d5a",
   "metadata": {},
   "outputs": [
    {
     "data": {
      "text/plain": [
       "array([ 8.22340505e+00,  7.75252922e+00, -2.54117416e-01,  4.35589319e+00,\n",
       "        6.69135945e+00,  1.36202538e+00,  2.03864111e+00,  7.79328670e+00,\n",
       "        1.72547890e+00,  3.33158516e+00,  4.13723043e-01,  9.75001593e+00,\n",
       "        9.33180880e+00,  1.70522541e+01,  1.85133518e+01,  1.24250301e+00,\n",
       "        1.85818589e+00, -2.19341618e-02,  7.18794479e+00,  3.06137615e+00,\n",
       "        1.43702876e+00,  2.31135272e-01,  6.57677437e+00,  3.31761969e-01,\n",
       "        2.10846121e+01,  5.11915298e+00,  5.93220317e+00,  9.80969813e+00,\n",
       "       -6.46764212e-02,  9.81330986e+00,  6.64475980e+00, -4.53909646e-01,\n",
       "        1.04015941e+01,  1.45820244e+01,  1.47807316e+00,  4.33773546e-01,\n",
       "        2.04109845e+00,  6.08454570e+00, -4.65467631e-01, -3.05185642e-01,\n",
       "        6.68439528e+00,  1.79727675e+00,  8.59237254e+00, -2.66715046e-01,\n",
       "        1.54439592e+01,  8.32647113e+00,  8.25849719e+00,  1.42038134e+00,\n",
       "        1.29740729e+01,  1.21912915e+00,  2.95190998e+01,  5.55199228e+00,\n",
       "        1.72874204e+01,  1.94724900e+01,  1.38380222e+01,  1.62042933e+01,\n",
       "        6.42051336e-01,  9.01702561e+00,  3.62733209e+00,  1.46170820e+01,\n",
       "        5.18049032e+00])"
      ]
     },
     "execution_count": 29,
     "metadata": {},
     "output_type": "execute_result"
    }
   ],
   "source": [
    "regressor.predict(x_test_scaled)"
   ]
  },
  {
   "cell_type": "code",
   "execution_count": 30,
   "id": "cb840666",
   "metadata": {},
   "outputs": [],
   "source": [
    "from sklearn.metrics import mean_squared_error,mean_absolute_error"
   ]
  },
  {
   "cell_type": "code",
   "execution_count": 31,
   "id": "57982b46",
   "metadata": {},
   "outputs": [],
   "source": [
    "MSE = mean_squared_error(y_test,y_pred=regressor.predict(x_test_scaled))\n",
    "MAE = mean_absolute_error(y_test,y_pred=regressor.predict(x_test_scaled))\n",
    "RMSE = np.sqrt(MSE)"
   ]
  },
  {
   "cell_type": "code",
   "execution_count": 32,
   "id": "be49ff44",
   "metadata": {},
   "outputs": [
    {
     "data": {
      "text/plain": [
       "(0.6742766873791584, 0.5468236465249987, 0.8211435242265255)"
      ]
     },
     "execution_count": 32,
     "metadata": {},
     "output_type": "execute_result"
    }
   ],
   "source": [
    "MSE,MAE,RMSE"
   ]
  },
  {
   "cell_type": "code",
   "execution_count": 33,
   "id": "21c56ca3",
   "metadata": {},
   "outputs": [],
   "source": [
    "from sklearn.metrics import r2_score"
   ]
  },
  {
   "cell_type": "code",
   "execution_count": 34,
   "id": "1acd2e52",
   "metadata": {},
   "outputs": [],
   "source": [
    "r2score = r2_score(y_test,y_pred=regressor.predict(x_test_scaled))"
   ]
  },
  {
   "cell_type": "code",
   "execution_count": 35,
   "id": "0057a3a0",
   "metadata": {},
   "outputs": [],
   "source": [
    "updated_r2 = 1- ((1-r2score)*(len(x) - 1)/ (len(x)-9-1))"
   ]
  },
  {
   "cell_type": "code",
   "execution_count": 36,
   "id": "7b4ee9d8",
   "metadata": {},
   "outputs": [
    {
     "data": {
      "text/plain": [
       "(0.9847657384266951, 0.9841772905547649)"
      ]
     },
     "execution_count": 36,
     "metadata": {},
     "output_type": "execute_result"
    }
   ],
   "source": [
    "r2score,updated_r2"
   ]
  },
  {
   "cell_type": "code",
   "execution_count": 37,
   "id": "c3bcf0b7",
   "metadata": {},
   "outputs": [
    {
     "data": {
      "text/plain": [
       "array([ 8.22340505e+00,  7.75252922e+00, -2.54117416e-01,  4.35589319e+00,\n",
       "        6.69135945e+00,  1.36202538e+00,  2.03864111e+00,  7.79328670e+00,\n",
       "        1.72547890e+00,  3.33158516e+00,  4.13723043e-01,  9.75001593e+00,\n",
       "        9.33180880e+00,  1.70522541e+01,  1.85133518e+01,  1.24250301e+00,\n",
       "        1.85818589e+00, -2.19341618e-02,  7.18794479e+00,  3.06137615e+00,\n",
       "        1.43702876e+00,  2.31135272e-01,  6.57677437e+00,  3.31761969e-01,\n",
       "        2.10846121e+01,  5.11915298e+00,  5.93220317e+00,  9.80969813e+00,\n",
       "       -6.46764212e-02,  9.81330986e+00,  6.64475980e+00, -4.53909646e-01,\n",
       "        1.04015941e+01,  1.45820244e+01,  1.47807316e+00,  4.33773546e-01,\n",
       "        2.04109845e+00,  6.08454570e+00, -4.65467631e-01, -3.05185642e-01,\n",
       "        6.68439528e+00,  1.79727675e+00,  8.59237254e+00, -2.66715046e-01,\n",
       "        1.54439592e+01,  8.32647113e+00,  8.25849719e+00,  1.42038134e+00,\n",
       "        1.29740729e+01,  1.21912915e+00,  2.95190998e+01,  5.55199228e+00,\n",
       "        1.72874204e+01,  1.94724900e+01,  1.38380222e+01,  1.62042933e+01,\n",
       "        6.42051336e-01,  9.01702561e+00,  3.62733209e+00,  1.46170820e+01,\n",
       "        5.18049032e+00])"
      ]
     },
     "execution_count": 37,
     "metadata": {},
     "output_type": "execute_result"
    }
   ],
   "source": [
    "y_pred"
   ]
  },
  {
   "cell_type": "code",
   "execution_count": 38,
   "id": "bc1662c7",
   "metadata": {},
   "outputs": [
    {
     "name": "stderr",
     "output_type": "stream",
     "text": [
      "C:\\Anaconda\\lib\\site-packages\\seaborn\\_decorators.py:36: FutureWarning: Pass the following variables as keyword args: x, y. From version 0.12, the only valid positional argument will be `data`, and passing other arguments without an explicit keyword will result in an error or misinterpretation.\n",
      "  warnings.warn(\n"
     ]
    },
    {
     "data": {
      "image/png": "[encoded data removed]",
      "text/plain": [
       "<Figure size 500x300 with 1 Axes>"
      ]
     },
     "metadata": {},
     "output_type": "display_data"
    }
   ],
   "source": [
    "plt.figure(figsize=(5,3))\n",
    "sns.scatterplot(y_test,y_pred)\n",
    "plt.show()"
   ]
  },
  {
   "cell_type": "code",
   "execution_count": 39,
   "id": "7c27b38b",
   "metadata": {},
   "outputs": [],
   "source": [
    "from sklearn.linear_model import Lasso"
   ]
  },
  {
   "cell_type": "code",
   "execution_count": 40,
   "id": "f6c9b3df",
   "metadata": {},
   "outputs": [],
   "source": [
    "lasso = Lasso()\n",
    "lasso.fit(x_train_scaled,y_train)\n",
    "y_pred_lasso = lasso.predict(x_test_scaled)"
   ]
  },
  {
   "cell_type": "code",
   "execution_count": 41,
   "id": "72b7f64a",
   "metadata": {},
   "outputs": [],
   "source": [
    "MSE = mean_squared_error(y_test,y_pred_lasso)\n",
    "MAE = mean_absolute_error(y_test,y_pred_lasso)\n",
    "RMSE = np.sqrt(MSE)\n",
    "\n",
    "r2_scr = r2_score(y_test,y_pred_lasso)"
   ]
  },
  {
   "cell_type": "code",
   "execution_count": 42,
   "id": "eabdebf5",
   "metadata": {},
   "outputs": [
    {
     "data": {
      "text/plain": [
       "(2.2483458918974746,\n",
       " 1.1331759949144085,\n",
       " 1.4994485292591655,\n",
       " 0.9492020263112388)"
      ]
     },
     "execution_count": 42,
     "metadata": {},
     "output_type": "execute_result"
    }
   ],
   "source": [
    "MSE,MAE,RMSE,r2_scr"
   ]
  },
  {
   "cell_type": "code",
   "execution_count": 43,
   "id": "1c65f27b",
   "metadata": {},
   "outputs": [
    {
     "name": "stderr",
     "output_type": "stream",
     "text": [
      "C:\\Anaconda\\lib\\site-packages\\seaborn\\_decorators.py:36: FutureWarning: Pass the following variables as keyword args: x, y. From version 0.12, the only valid positional argument will be `data`, and passing other arguments without an explicit keyword will result in an error or misinterpretation.\n",
      "  warnings.warn(\n"
     ]
    },
    {
     "data": {
      "image/png": "[encoded data removed]",
      "text/plain": [
       "<Figure size 500x300 with 1 Axes>"
      ]
     },
     "metadata": {},
     "output_type": "display_data"
    }
   ],
   "source": [
    "plt.figure(figsize=(5,3))\n",
    "sns.scatterplot(y_test,y_pred_lasso)\n",
    "plt.show()"
   ]
  },
  {
   "cell_type": "code",
   "execution_count": 44,
   "id": "6e10636f",
   "metadata": {},
   "outputs": [],
   "source": [
    "from sklearn.linear_model import Ridge\n",
    "\n",
    "ridge = Ridge()\n",
    "ridge.fit(x_train_scaled,y_train)\n",
    "y_pred_ridge = ridge.predict(x_test_scaled)"
   ]
  },
  {
   "cell_type": "code",
   "execution_count": 45,
   "id": "67ca8a50",
   "metadata": {},
   "outputs": [
    {
     "data": {
      "text/plain": [
       "array([ 8.23695957,  7.77133489, -0.20576373,  4.38641746,  6.73014882,\n",
       "        1.38083778,  2.09821574,  7.89573609,  1.68710448,  3.39608166,\n",
       "        0.45955107,  9.77115691,  9.35289622, 17.03184252, 18.46891974,\n",
       "        1.31920963,  1.83197436, -0.12967473,  7.18616187,  3.15029834,\n",
       "        1.4415705 ,  0.20532056,  6.60901914,  0.34619299, 20.97777968,\n",
       "        5.22692975,  5.97066219,  9.82599838, -0.18171193,  9.83698303,\n",
       "        6.65050786, -0.43256887, 10.40995342, 14.57517502,  1.52182034,\n",
       "        0.47799404,  2.09598786,  6.18530003, -0.51720703, -0.27108924,\n",
       "        6.74656177,  1.8115675 ,  8.60302337, -0.34697492, 15.41467762,\n",
       "        8.34164636,  8.27783782,  1.41852757, 12.97837116,  1.24905696,\n",
       "       29.40913561,  5.66093325, 17.23898525, 19.38721803, 13.82278407,\n",
       "       16.19164908,  0.70419803,  9.05107798,  3.6760472 , 14.63186999,\n",
       "        5.27050843])"
      ]
     },
     "execution_count": 45,
     "metadata": {},
     "output_type": "execute_result"
    }
   ],
   "source": [
    "y_pred_ridge"
   ]
  },
  {
   "cell_type": "code",
   "execution_count": 46,
   "id": "0f1c74e5",
   "metadata": {},
   "outputs": [],
   "source": [
    "MSE = mean_squared_error(y_test,y_pred_ridge)\n",
    "RMSE = np.sqrt(MSE)\n",
    "MAE = mean_absolute_error(y_test,y_pred_ridge)\n",
    "r2_scr = r2_score(y_test,y_pred_ridge)"
   ]
  },
  {
   "cell_type": "code",
   "execution_count": 47,
   "id": "0971c037",
   "metadata": {},
   "outputs": [
    {
     "data": {
      "text/plain": [
       "(0.6949198918152067,\n",
       " 0.5642305340105693,\n",
       " 0.8336185529456543,\n",
       " 0.9842993364555513)"
      ]
     },
     "execution_count": 47,
     "metadata": {},
     "output_type": "execute_result"
    }
   ],
   "source": [
    "MSE, MAE,RMSE,r2_scr"
   ]
  },
  {
   "cell_type": "code",
   "execution_count": 48,
   "id": "575bcf83",
   "metadata": {},
   "outputs": [
    {
     "name": "stderr",
     "output_type": "stream",
     "text": [
      "C:\\Anaconda\\lib\\site-packages\\seaborn\\_decorators.py:36: FutureWarning: Pass the following variables as keyword args: x, y. From version 0.12, the only valid positional argument will be `data`, and passing other arguments without an explicit keyword will result in an error or misinterpretation.\n",
      "  warnings.warn(\n"
     ]
    },
    {
     "data": {
      "image/png": "[encoded data removed]",
      "text/plain": [
       "<Figure size 500x300 with 1 Axes>"
      ]
     },
     "metadata": {},
     "output_type": "display_data"
    }
   ],
   "source": [
    "plt.figure(figsize=(5,3))\n",
    "sns.scatterplot(y_test,y_pred_ridge)\n",
    "plt.show()"
   ]
  },
  {
   "cell_type": "code",
   "execution_count": 49,
   "id": "54a082bf",
   "metadata": {},
   "outputs": [],
   "source": [
    "from sklearn.linear_model import ElasticNet"
   ]
  },
  {
   "cell_type": "code",
   "execution_count": 50,
   "id": "c35fe0e5",
   "metadata": {},
   "outputs": [],
   "source": [
    "elasticnet = ElasticNet()"
   ]
  },
  {
   "cell_type": "code",
   "execution_count": 51,
   "id": "54e1670c",
   "metadata": {},
   "outputs": [],
   "source": [
    "elasticnet.fit(x_train_scaled,y_train)\n",
    "y_pred_elastic = elasticnet.predict(x_test_scaled)"
   ]
  },
  {
   "cell_type": "code",
   "execution_count": 52,
   "id": "0b36ccec",
   "metadata": {},
   "outputs": [],
   "source": [
    "MSE = mean_squared_error(y_test,y_pred_elastic)\n",
    "RMSE = np.sqrt(MSE)\n",
    "MAE = mean_absolute_error(y_test,y_pred_elastic)\n",
    "r2_scr = r2_score(y_test,y_pred_elastic)"
   ]
  },
  {
   "cell_type": "code",
   "execution_count": 53,
   "id": "2476eec8",
   "metadata": {},
   "outputs": [
    {
     "data": {
      "text/plain": [
       "(5.517251101025224, 1.8822353634896, 2.3488829474933874, 0.8753460589519703)"
      ]
     },
     "execution_count": 53,
     "metadata": {},
     "output_type": "execute_result"
    }
   ],
   "source": [
    "MSE, MAE,RMSE,r2_scr"
   ]
  },
  {
   "cell_type": "code",
   "execution_count": 54,
   "id": "9d00a5a8",
   "metadata": {},
   "outputs": [
    {
     "name": "stderr",
     "output_type": "stream",
     "text": [
      "C:\\Anaconda\\lib\\site-packages\\seaborn\\_decorators.py:36: FutureWarning: Pass the following variables as keyword args: x, y. From version 0.12, the only valid positional argument will be `data`, and passing other arguments without an explicit keyword will result in an error or misinterpretation.\n",
      "  warnings.warn(\n"
     ]
    },
    {
     "data": {
      "image/png": "[encoded data removed]",
      "text/plain": [
       "<Figure size 500x300 with 1 Axes>"
      ]
     },
     "metadata": {},
     "output_type": "display_data"
    }
   ],
   "source": [
    "plt.figure(figsize=(5,3))\n",
    "sns.scatterplot(y_test,y_pred_elastic)\n",
    "plt.show()"
   ]
  },
  {
   "cell_type": "code",
   "execution_count": 57,
   "id": "94898b20",
   "metadata": {},
   "outputs": [],
   "source": [
    "import pickle as pkl\n",
    "\n",
    "\n",
    "pkl.dump(scaler,open('sklr.pkl','wb'))\n",
    "pkl.dump(ridge,open('ridge.pkl','wb'))"
   ]
  },
  {
   "cell_type": "code",
   "execution_count": null,
   "id": "eaf223a9",
   "metadata": {},
   "outputs": [],
   "source": []
  },
  {
   "cell_type": "code",
   "execution_count": null,
   "id": "2dd17233",
   "metadata": {},
   "outputs": [],
   "source": []
  },
  {
   "cell_type": "code",
   "execution_count": null,
   "id": "1f7e40d3",
   "metadata": {},
   "outputs": [],
   "source": []
  },
  {
   "cell_type": "code",
   "execution_count": null,
   "id": "a7061da3",
   "metadata": {},
   "outputs": [],
   "source": []
  },
  {
   "cell_type": "code",
   "execution_count": null,
   "id": "b0527849",
   "metadata": {},
   "outputs": [],
   "source": []
  },
  {
   "cell_type": "code",
   "execution_count": null,
   "id": "130189b8",
   "metadata": {},
   "outputs": [],
   "source": []
  }
 ],
 "metadata": {
  "kernelspec": {
   "display_name": "Python 3 (ipykernel)",
   "language": "python",
   "name": "python3"
  },
  "language_info": {
   "codemirror_mode": {
    "name": "ipython",
    "version": 3
   },
   "file_extension": ".py",
   "mimetype": "text/x-python",
   "name": "python",
   "nbconvert_exporter": "python",
   "pygments_lexer": "ipython3",
   "version": "3.9.13"
  }
 },
 "nbformat": 4,
 "nbformat_minor": 5
}
